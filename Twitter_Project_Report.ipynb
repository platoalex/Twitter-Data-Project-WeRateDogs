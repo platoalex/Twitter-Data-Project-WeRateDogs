{
 "cells": [
  {
   "cell_type": "markdown",
   "metadata": {},
   "source": [
    "## DATA WRANGLING REPORT"
   ]
  },
  {
   "cell_type": "markdown",
   "metadata": {},
   "source": [
    "#### **Introduction**\n",
    "\n",
    "This is a report of the steps taken to obtain, wrangle, analyze and visualise the data from the twitter handle @WeRateDogs. The steps are hereunder itemized:\n",
    "\n",
    "#### Loading Packages and Data gathering:\n",
    "\n",
    "The necessary modules needed to gather, wrangle and visualize the data were imported. Access to the developer platform of twitter was applied for and obtained; the developer access was necessary to be able to query twitter API for the **retweet** and **likes** data used to complete this analysis. Three datasets were used in this analysis:\n",
    "\n",
    "- Twitter_archive_advanced - A csv file made available by @weratedogs to udacity for the purpose of this analysis. This was downloaded from the udacity website manually and saved for analysis\n",
    "- The Image Prediction data (image-predictions.tsv) which contains the tweeted images of dogs with the predictions on the breed made with neural network algorithm in three stages. This file was downloaded programmatically using the `request` library off the udacity website\n",
    "- Finally the retweets and favorites count file scrapped from querying the twitter API as described above.\n",
    "\n",
    "These files were loaded to the pandas dataframe for cleaning and analysis\n"
   ]
  },
  {
   "cell_type": "markdown",
   "metadata": {},
   "source": [
    "#### **Getting the retweets and favorites count data**\n",
    "\n",
    "- First, I requested for twitter developer account, answered the compliance questions and obtained the access keys.\n",
    "- Using the obtained keys, I queried Twitter's API for each tweet ID in the Twitter archive, scraping the tweet and favorites count and saved as JSON data  in a `.txt` file\n",
    "- The `.txt` file was loaded into the pandas dataframe for analysis"
   ]
  },
  {
   "cell_type": "markdown",
   "metadata": {},
   "source": [
    "#### **Assessing the Datasets**\n",
    "\n",
    "Assessment of the datasets were done visually and programmatically\n",
    "\n",
    "- Visually: The dataframes were visually assessed using the `head()` functions to observe the columns and rows for any quality and tidyness issues\n",
    "- Programmatically: The programmatic assessments were done with some functions like `info()`, `nunique()`, `duplicated()` etc"
   ]
  },
  {
   "cell_type": "markdown",
   "metadata": {},
   "source": [
    "**General Findings**\n",
    " \n",
    "(Data Quality):\n",
    "1.  tweet_id data type should be string and not int64\n",
    "2.  in_reply_to_status_id and in_reply_to_user_id has mostly missing values\n",
    "3.  timestamp should be changed from string to date-time\n",
    "4.  retweeted_status_id, retweeted_status_user_id and retweeted_status_timestamp should not contain any values for our analysis\n",
    "5.  Expanded URL contains 59 missing values, these should be dropped\n",
    "6.  All lowercase Dog names are invalid\n",
    "7.  tweet_id data type should be string and not int64 for the image_predictions dataset\n",
    "8.  tweet_id data type should be string and not int64 for the tweet_json dataset\n",
    "\n",
    "(Tidyness):\n",
    "1.  For the Tweet Archive dataset, the columns for the different breed of dogs should be merged as a single column with the 4 categories\n",
    "2.  The column name for the tweet_id should be same across all dataset\n",
    "3.  The three datasets should be merged"
   ]
  },
  {
   "cell_type": "markdown",
   "metadata": {},
   "source": [
    "### Analysis and Visualisation\n",
    "\n",
    "The analysis covered the following questions:\n",
    "\n",
    "1.  Which dog stage do people like more: Which stage recieved the highest likes and retweets\n",
    "2.  Which dog stage recieved the most and highest rating?\n",
    "3.  What is the correlation between retweet count and favorites count\n",
    "\n",
    "Plots were made using matplotlib and pandas plot\n",
    "\n",
    "### Conclusions:\n",
    "\n",
    "1.  People seem to generally like the dogs in the 'pupper' stage more as they recieved more likes and retweets\n",
    "2.  Again, the pupper stage dogs recieved more ratings reaffirming the theory that people liked that stage more\n",
    "3.  There exists a strong positive correlation (0.86) between the number of likes of each dog stage and their retweets"
   ]
  }
 ],
 "metadata": {
  "language_info": {
   "name": "python"
  },
  "orig_nbformat": 4
 },
 "nbformat": 4,
 "nbformat_minor": 2
}
